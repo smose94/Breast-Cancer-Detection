{
 "cells": [
  {
   "cell_type": "markdown",
   "metadata": {},
   "source": [
    "# <center><strong> Breast Cancer Classification with PYTORCH <strong><center>\n",
    "\n",
    "This notebook describes how I used <strong>Pytorch</strong> to develop and train a neural network for breast cancer classification using tabular data. Deep learning is often associated with large datasets and image recognition/classification, so it was an interesting challenge to develop a network for tabular data. The dataset used in this problem can be found at <a href='https://github.com/smose94/Breast-Cancer-Detection'> breast-cancer.xls </a>.\n",
    "    \n",
    "    \n",
    "<div class=\"alert alert-success\"><strong>Note: This neural network was implemented using Pytorch v1.1.0.  </strong></div>\n",
    "    \n",
    "    "
   ]
  },
  {
   "cell_type": "markdown",
   "metadata": {},
   "source": [
    "## Import the required libraries\n",
    "As mentioned, the neural network is built using the Pytorch library. I also need to import Numpy, Pandas and scikit-learn for pre-processing of the data, and seaborn for visualisation."
   ]
  },
  {
   "cell_type": "code",
   "execution_count": 1,
   "metadata": {},
   "outputs": [],
   "source": [
    "import numpy as np\n",
    "import pandas as pd\n",
    "import torch\n",
    "import torch.nn as nn\n",
    "import matplotlib.pyplot as plt\n",
    "from sklearn.utils import shuffle\n",
    "import datetime\n",
    "import seaborn as sns"
   ]
  },
  {
   "cell_type": "markdown",
   "metadata": {},
   "source": [
    "## Import the dataset\n",
    "Import the dataset using pandas. The first step is to conduct some Exploratory Data Analysis and look at any issues with the data e.g. anomalies, NaNs or missing values."
   ]
  },
  {
   "cell_type": "code",
   "execution_count": 2,
   "metadata": {},
   "outputs": [
    {
     "data": {
      "text/html": [
       "<div>\n",
       "<style scoped>\n",
       "    .dataframe tbody tr th:only-of-type {\n",
       "        vertical-align: middle;\n",
       "    }\n",
       "\n",
       "    .dataframe tbody tr th {\n",
       "        vertical-align: top;\n",
       "    }\n",
       "\n",
       "    .dataframe thead th {\n",
       "        text-align: right;\n",
       "    }\n",
       "</style>\n",
       "<table border=\"1\" class=\"dataframe\">\n",
       "  <thead>\n",
       "    <tr style=\"text-align: right;\">\n",
       "      <th></th>\n",
       "      <th>age</th>\n",
       "      <th>menopause</th>\n",
       "      <th>tumor-size</th>\n",
       "      <th>inv-nodes</th>\n",
       "      <th>node-caps</th>\n",
       "      <th>deg-malig</th>\n",
       "      <th>breast</th>\n",
       "      <th>breast-quad</th>\n",
       "      <th>irradiat</th>\n",
       "      <th>Class</th>\n",
       "    </tr>\n",
       "  </thead>\n",
       "  <tbody>\n",
       "    <tr>\n",
       "      <th>0</th>\n",
       "      <td>40-49</td>\n",
       "      <td>premeno</td>\n",
       "      <td>15-19</td>\n",
       "      <td>0-2</td>\n",
       "      <td>yes</td>\n",
       "      <td>3</td>\n",
       "      <td>right</td>\n",
       "      <td>left_up</td>\n",
       "      <td>no</td>\n",
       "      <td>recurrence-events</td>\n",
       "    </tr>\n",
       "    <tr>\n",
       "      <th>1</th>\n",
       "      <td>50-59</td>\n",
       "      <td>ge40</td>\n",
       "      <td>15-19</td>\n",
       "      <td>0-2</td>\n",
       "      <td>no</td>\n",
       "      <td>1</td>\n",
       "      <td>right</td>\n",
       "      <td>central</td>\n",
       "      <td>no</td>\n",
       "      <td>no-recurrence-events</td>\n",
       "    </tr>\n",
       "    <tr>\n",
       "      <th>2</th>\n",
       "      <td>50-59</td>\n",
       "      <td>ge40</td>\n",
       "      <td>35-39</td>\n",
       "      <td>0-2</td>\n",
       "      <td>no</td>\n",
       "      <td>2</td>\n",
       "      <td>left</td>\n",
       "      <td>left_low</td>\n",
       "      <td>no</td>\n",
       "      <td>recurrence-events</td>\n",
       "    </tr>\n",
       "    <tr>\n",
       "      <th>3</th>\n",
       "      <td>40-49</td>\n",
       "      <td>premeno</td>\n",
       "      <td>35-39</td>\n",
       "      <td>0-2</td>\n",
       "      <td>yes</td>\n",
       "      <td>3</td>\n",
       "      <td>right</td>\n",
       "      <td>left_low</td>\n",
       "      <td>yes</td>\n",
       "      <td>no-recurrence-events</td>\n",
       "    </tr>\n",
       "    <tr>\n",
       "      <th>4</th>\n",
       "      <td>40-49</td>\n",
       "      <td>premeno</td>\n",
       "      <td>30-34</td>\n",
       "      <td>2019-05-03 00:00:00</td>\n",
       "      <td>yes</td>\n",
       "      <td>2</td>\n",
       "      <td>left</td>\n",
       "      <td>right_up</td>\n",
       "      <td>no</td>\n",
       "      <td>recurrence-events</td>\n",
       "    </tr>\n",
       "    <tr>\n",
       "      <th>5</th>\n",
       "      <td>50-59</td>\n",
       "      <td>premeno</td>\n",
       "      <td>25-29</td>\n",
       "      <td>2019-05-03 00:00:00</td>\n",
       "      <td>no</td>\n",
       "      <td>2</td>\n",
       "      <td>right</td>\n",
       "      <td>left_up</td>\n",
       "      <td>yes</td>\n",
       "      <td>no-recurrence-events</td>\n",
       "    </tr>\n",
       "  </tbody>\n",
       "</table>\n",
       "</div>"
      ],
      "text/plain": [
       "     age menopause tumor-size            inv-nodes node-caps  deg-malig  \\\n",
       "0  40-49   premeno      15-19                  0-2       yes          3   \n",
       "1  50-59      ge40      15-19                  0-2        no          1   \n",
       "2  50-59      ge40      35-39                  0-2        no          2   \n",
       "3  40-49   premeno      35-39                  0-2       yes          3   \n",
       "4  40-49   premeno      30-34  2019-05-03 00:00:00       yes          2   \n",
       "5  50-59   premeno      25-29  2019-05-03 00:00:00        no          2   \n",
       "\n",
       "  breast breast-quad irradiat                 Class  \n",
       "0  right     left_up       no     recurrence-events  \n",
       "1  right     central       no  no-recurrence-events  \n",
       "2   left    left_low       no     recurrence-events  \n",
       "3  right    left_low      yes  no-recurrence-events  \n",
       "4   left    right_up       no     recurrence-events  \n",
       "5  right     left_up      yes  no-recurrence-events  "
      ]
     },
     "execution_count": 2,
     "metadata": {},
     "output_type": "execute_result"
    }
   ],
   "source": [
    "url = 'https://github.com/smose94/Breast-Cancer-Detection/blob/master/breast-cancer.xls?raw=True'\n",
    "dataset = pd.read_excel(url)\n",
    "dataset.head(6)"
   ]
  },
  {
   "cell_type": "markdown",
   "metadata": {},
   "source": [
    "We can also use <tt>.info()</tt> to look at the datatypes within each column of the dataset."
   ]
  },
  {
   "cell_type": "code",
   "execution_count": 3,
   "metadata": {},
   "outputs": [
    {
     "name": "stdout",
     "output_type": "stream",
     "text": [
      "<class 'pandas.core.frame.DataFrame'>\n",
      "RangeIndex: 286 entries, 0 to 285\n",
      "Data columns (total 10 columns):\n",
      "age            286 non-null object\n",
      "menopause      286 non-null object\n",
      "tumor-size     286 non-null object\n",
      "inv-nodes      286 non-null object\n",
      "node-caps      286 non-null object\n",
      "deg-malig      286 non-null int64\n",
      "breast         286 non-null object\n",
      "breast-quad    286 non-null object\n",
      "irradiat       286 non-null object\n",
      "Class          286 non-null object\n",
      "dtypes: int64(1), object(9)\n",
      "memory usage: 22.4+ KB\n",
      "None\n"
     ]
    }
   ],
   "source": [
    "print(dataset.info())"
   ]
  },
  {
   "cell_type": "code",
   "execution_count": 4,
   "metadata": {},
   "outputs": [
    {
     "name": "stdout",
     "output_type": "stream",
     "text": [
      "50-59    96\n",
      "40-49    90\n",
      "60-69    57\n",
      "30-39    36\n",
      "70-79     6\n",
      "20-29     1\n",
      "Name: age, dtype: int64\n",
      "premeno    150\n",
      "ge40       129\n",
      "lt40         7\n",
      "Name: menopause, dtype: int64\n",
      "30-34                  60\n",
      "25-29                  54\n",
      "20-24                  50\n",
      "15-19                  30\n",
      "2014-10-01 00:00:00    28\n",
      "40-44                  22\n",
      "35-39                  19\n",
      "0-4                     8\n",
      "50-54                   8\n",
      "2019-09-05 00:00:00     4\n",
      "45-49                   3\n",
      "Name: tumor-size, dtype: int64\n",
      "0-2                    213\n",
      "2019-05-03 00:00:00     36\n",
      "2019-08-06 00:00:00     17\n",
      "2019-11-09 00:00:00     10\n",
      "15-17                    6\n",
      "2014-12-01 00:00:00      3\n",
      "24-26                    1\n",
      "Name: inv-nodes, dtype: int64\n",
      "no     222\n",
      "yes     56\n",
      "?        8\n",
      "Name: node-caps, dtype: int64\n",
      "2    130\n",
      "3     85\n",
      "1     71\n",
      "Name: deg-malig, dtype: int64\n",
      "left     152\n",
      "right    134\n",
      "Name: breast, dtype: int64\n",
      "left_low     110\n",
      "left_up       97\n",
      "right_up      33\n",
      "right_low     24\n",
      "central       21\n",
      "?              1\n",
      "Name: breast-quad, dtype: int64\n",
      "no     218\n",
      "yes     68\n",
      "Name: irradiat, dtype: int64\n",
      "no-recurrence-events    201\n",
      "recurrence-events        85\n",
      "Name: Class, dtype: int64\n"
     ]
    }
   ],
   "source": [
    "# Search for errors in the raw dataset using value_counts() on each column\n",
    "for col in dataset.columns:\n",
    "    print(dataset[col].value_counts())"
   ]
  },
  {
   "cell_type": "markdown",
   "metadata": {},
   "source": [
    "## Fixing Errors\n",
    "From the output above, we can that the raw dataset has several errors. The first errors can be found within the <tt> 'inv-nodes' </tt> column, where 8 of the values are <tt> '?' </tt> We also see that the <tt> 'menopause' </tt> and <tt> 'tumor-size' </tt> columns have date values in place of the string values expected. I make the decision to drop the <tt> '?'s </tt> from the dataset."
   ]
  },
  {
   "cell_type": "code",
   "execution_count": 5,
   "metadata": {},
   "outputs": [],
   "source": [
    "dataset = dataset.replace(\"?\", np.nan).dropna()"
   ]
  },
  {
   "cell_type": "markdown",
   "metadata": {},
   "source": [
    "I interpret that the date values in the tumor-size column refer to the ranges 5-9 and 10-14. I also assume the inv-nodes column dates refer to 3-5, 6-8, 9-11, 12-14. First I separate rows with datetime objects from the raw dataset. Then, I replace the datetime object with a string that depends on the year of the datetime object.\n",
    "\n",
    "#### <div class=\"alert alert-danger\"><strong>Note: </strong>The code below seems a convoluted way to replace the erroneous datetime values with the actual strings required. I also looked at alternative means such as <strong><tt>np.where</tt></strong> but couldn't seem to find a method that worked as I needed. In the end, I settled for what's below but would be very happy to see a smarter/neater solution.</div>"
   ]
  },
  {
   "cell_type": "code",
   "execution_count": 6,
   "metadata": {},
   "outputs": [],
   "source": [
    "mask = dataset['tumor-size'].apply(lambda x: isinstance(x, datetime.datetime))\n",
    "dataset_dates = dataset[mask].reset_index(drop=True)\n",
    "dataset_remain = dataset[~mask].reset_index(drop=True)\n",
    "\n",
    "for i in range(len(dataset_dates)):\n",
    "    if dataset_dates.loc[i, 'tumor-size'].strftime('%Y') == '2014':\n",
    "        dataset_dates.loc[i,'tumor-size'] = '10-14'\n",
    "    else:\n",
    "        dataset_dates.loc[i,'tumor-size'] = '5-9'\n",
    "\n",
    "#Append the amended dataframe back to old one and then repeat this process again for the inv-nodes columns\n",
    "dataset = dataset_remain.append(dataset_dates).reset_index(drop=True)\n"
   ]
  },
  {
   "cell_type": "markdown",
   "metadata": {},
   "source": [
    "Do the same for the <tt>inv-nodes</tt> column.\n",
    "\n"
   ]
  },
  {
   "cell_type": "code",
   "execution_count": 7,
   "metadata": {},
   "outputs": [],
   "source": [
    "# [0-2],[3-5],[6-8],[9-11].[12-14],[15-17],[24-26] outlier??\n",
    "mask = dataset['inv-nodes'].apply(lambda x: isinstance(x, datetime.datetime))\n",
    "dataset_dates = dataset[mask].reset_index(drop = True)\n",
    "dataset_remain = dataset[~mask].reset_index(drop=True)\n",
    "\n",
    "for i in range(len(dataset_dates)):\n",
    "    dataset_dates.loc[i, 'inv-nodes'] = dataset_dates.loc[i,'inv-nodes'].strftime('%m')\n",
    "    \n",
    "    if dataset_dates.loc[i,'inv-nodes'] == '05':\n",
    "        dataset_dates.loc[i,'inv-nodes'] = '3-5'\n",
    "    elif dataset_dates.loc[i,'inv-nodes'] == '08':\n",
    "        dataset_dates.loc[i,'inv-nodes'] = '6-8'\n",
    "    elif dataset_dates.loc[i,'inv-nodes'] == '11':\n",
    "        dataset_dates.loc[i,'inv-nodes'] = '9-11'\n",
    "    elif dataset_dates.loc[i,'inv-nodes'] == '12':\n",
    "        dataset_dates.loc[i,'inv-nodes'] = '12-14'\n",
    "    else:\n",
    "        pass\n",
    "    \n",
    "dataset = dataset_remain.append(dataset_dates).reset_index(drop=True)"
   ]
  },
  {
   "cell_type": "markdown",
   "metadata": {},
   "source": [
    "Next, I shuffle the dataset using scikit-learn's <tt><strong>shuffle</strong></tt> feature. This is to ensure that the data isn't indexed in a sorted order that could impact the model's ability to discern each data point's individual impact. "
   ]
  },
  {
   "cell_type": "code",
   "execution_count": 8,
   "metadata": {},
   "outputs": [
    {
     "data": {
      "text/html": [
       "<div>\n",
       "<style scoped>\n",
       "    .dataframe tbody tr th:only-of-type {\n",
       "        vertical-align: middle;\n",
       "    }\n",
       "\n",
       "    .dataframe tbody tr th {\n",
       "        vertical-align: top;\n",
       "    }\n",
       "\n",
       "    .dataframe thead th {\n",
       "        text-align: right;\n",
       "    }\n",
       "</style>\n",
       "<table border=\"1\" class=\"dataframe\">\n",
       "  <thead>\n",
       "    <tr style=\"text-align: right;\">\n",
       "      <th></th>\n",
       "      <th>age</th>\n",
       "      <th>menopause</th>\n",
       "      <th>tumor-size</th>\n",
       "      <th>inv-nodes</th>\n",
       "      <th>node-caps</th>\n",
       "      <th>deg-malig</th>\n",
       "      <th>breast</th>\n",
       "      <th>breast-quad</th>\n",
       "      <th>irradiat</th>\n",
       "      <th>Class</th>\n",
       "    </tr>\n",
       "  </thead>\n",
       "  <tbody>\n",
       "    <tr>\n",
       "      <th>0</th>\n",
       "      <td>60-69</td>\n",
       "      <td>ge40</td>\n",
       "      <td>50-54</td>\n",
       "      <td>0-2</td>\n",
       "      <td>no</td>\n",
       "      <td>2</td>\n",
       "      <td>right</td>\n",
       "      <td>left_up</td>\n",
       "      <td>yes</td>\n",
       "      <td>no-recurrence-events</td>\n",
       "    </tr>\n",
       "    <tr>\n",
       "      <th>1</th>\n",
       "      <td>40-49</td>\n",
       "      <td>premeno</td>\n",
       "      <td>30-34</td>\n",
       "      <td>15-17</td>\n",
       "      <td>yes</td>\n",
       "      <td>3</td>\n",
       "      <td>left</td>\n",
       "      <td>left_low</td>\n",
       "      <td>no</td>\n",
       "      <td>recurrence-events</td>\n",
       "    </tr>\n",
       "    <tr>\n",
       "      <th>2</th>\n",
       "      <td>40-49</td>\n",
       "      <td>premeno</td>\n",
       "      <td>20-24</td>\n",
       "      <td>0-2</td>\n",
       "      <td>no</td>\n",
       "      <td>2</td>\n",
       "      <td>left</td>\n",
       "      <td>left_up</td>\n",
       "      <td>no</td>\n",
       "      <td>no-recurrence-events</td>\n",
       "    </tr>\n",
       "    <tr>\n",
       "      <th>3</th>\n",
       "      <td>50-59</td>\n",
       "      <td>premeno</td>\n",
       "      <td>25-29</td>\n",
       "      <td>3-5</td>\n",
       "      <td>no</td>\n",
       "      <td>2</td>\n",
       "      <td>right</td>\n",
       "      <td>left_up</td>\n",
       "      <td>yes</td>\n",
       "      <td>no-recurrence-events</td>\n",
       "    </tr>\n",
       "    <tr>\n",
       "      <th>4</th>\n",
       "      <td>40-49</td>\n",
       "      <td>premeno</td>\n",
       "      <td>30-34</td>\n",
       "      <td>0-2</td>\n",
       "      <td>no</td>\n",
       "      <td>1</td>\n",
       "      <td>left</td>\n",
       "      <td>left_low</td>\n",
       "      <td>no</td>\n",
       "      <td>no-recurrence-events</td>\n",
       "    </tr>\n",
       "  </tbody>\n",
       "</table>\n",
       "</div>"
      ],
      "text/plain": [
       "     age menopause tumor-size inv-nodes node-caps  deg-malig breast  \\\n",
       "0  60-69      ge40      50-54       0-2        no          2  right   \n",
       "1  40-49   premeno      30-34     15-17       yes          3   left   \n",
       "2  40-49   premeno      20-24       0-2        no          2   left   \n",
       "3  50-59   premeno      25-29       3-5        no          2  right   \n",
       "4  40-49   premeno      30-34       0-2        no          1   left   \n",
       "\n",
       "  breast-quad irradiat                 Class  \n",
       "0     left_up      yes  no-recurrence-events  \n",
       "1    left_low       no     recurrence-events  \n",
       "2     left_up       no  no-recurrence-events  \n",
       "3     left_up      yes  no-recurrence-events  \n",
       "4    left_low       no  no-recurrence-events  "
      ]
     },
     "execution_count": 8,
     "metadata": {},
     "output_type": "execute_result"
    }
   ],
   "source": [
    "dataset = shuffle(dataset, random_state = 101)\n",
    "dataset.reset_index(drop=True, inplace=True)\n",
    "dataset.head()"
   ]
  },
  {
   "cell_type": "markdown",
   "metadata": {},
   "source": [
    "I want a quick overview of the effects of <tt>age</tt>, <tt>menopause</tt>, <tt>breast</tt> and <tt>breast-quad</tt> on the recurrence rates. I use seaborn's countplot to generate 4 subplots and see if there's any obvious insights to gain."
   ]
  },
  {
   "cell_type": "code",
   "execution_count": 9,
   "metadata": {},
   "outputs": [
    {
     "data": {
      "image/png": "[encoded data removed]",
      "text/plain": [
       "<Figure size 1440x360 with 4 Axes>"
      ]
     },
     "metadata": {
      "needs_background": "light"
     },
     "output_type": "display_data"
    }
   ],
   "source": [
    "cols = ['age','menopause','breast','breast-quad']\n",
    "fig, axes = plt.subplots(ncols=4,figsize=(20,5))\n",
    "current = 0\n",
    "for col in cols:\n",
    "    sns.countplot(x=f'{col}', data=dataset,hue='Class',palette='Paired',ax=axes[current])\n",
    "    current += 1"
   ]
  },
  {
   "cell_type": "markdown",
   "metadata": {},
   "source": [
    "Formal statisitical tests could be performed at this point to expand on the quick-look above and determine the level at which each of the categories has an effect on the recurrence rates. The similarity in the counts for <tt>left breast</tt> vs <tt>right breast</tt> is a point to note, and I actually find that the model's accuracy is increased when removing the <tt>breast</tt> column from the dataset.\n",
    "\n",
    "## Setup data for Pytorch\n",
    "The neural network will be implemented using a tabular model. The model will take in 3 types of data: categorical data, continuous data, and the label class (e.g. recurrence-events vs. no-recurrence-events). The next step is therefore to break the dataset out into these three types.\n",
    "\n",
    "For the continuous columns, I apply feature scaling to normalise the values and improve the model's time to convergence. In datasets with more continuous columns, feature scaling also has the value in reducing the chance the neural network applies higher weights to variables of higher magnitudes, therefore biasing the network. \n",
    "\n",
    "Each of the datatypes will then need to be transformed into a <tt>Torch.Tensor</tt> for ready-use with <tt>Pytorch</tt>."
   ]
  },
  {
   "cell_type": "code",
   "execution_count": 10,
   "metadata": {},
   "outputs": [],
   "source": [
    "#Set up the categorical, continuous and y columns for Pytorch\n",
    "cat_cols = ['age','menopause','tumor-size','inv-nodes','node-caps','breast-quad','irradiat']\n",
    "cont_cols = ['deg-malig']\n",
    "y = dataset.pop('Class')\n",
    "\n",
    "for col in cat_cols:\n",
    "    dataset[col] = dataset[col].astype('category')\n",
    "for col in cont_cols:\n",
    "    dataset[col] = dataset[col].astype('float64')\n",
    "\n",
    "#Change to category type of columns then set as Torch Tensor\n",
    "cats = np.stack([dataset[col].cat.codes.values for col in cat_cols],1)\n",
    "cats = torch.tensor(cats,dtype=torch.int64)\n",
    "\n",
    "\n",
    "#Set up continuous variable columns as a Torch Tensor\n",
    "conts = np.stack([dataset[col].values for col in cont_cols],axis=1)\n",
    "#Need to feature scale the continuous variables\n",
    "from sklearn.preprocessing import StandardScaler\n",
    "sc = StandardScaler()    \n",
    "conts = sc.fit_transform(conts)\n",
    "# Set up the cont tensor\n",
    "conts = torch.tensor(conts,dtype=torch.float)\n",
    "\n",
    "# Convert label column (class) into tensor\n",
    "# First need to map the string values of reccurence/no-recurrence to 0 or 1\n",
    "y = y.map({'no-recurrence-events':0,'recurrence-events':1})\n",
    "y = torch.tensor(y.values, dtype=torch.long).flatten()"
   ]
  },
  {
   "cell_type": "markdown",
   "metadata": {},
   "source": [
    "## Setup the Embeddings\n",
    "Currently, we have several categorical columns, each of which contains multiple categories. If we loop through each of the categories and return the number of unique values within, we get the result below. "
   ]
  },
  {
   "cell_type": "code",
   "execution_count": 11,
   "metadata": {},
   "outputs": [
    {
     "name": "stdout",
     "output_type": "stream",
     "text": [
      "AGE has 6 unique values\n",
      "MENOPAUSE has 3 unique values\n",
      "TUMOR-SIZE has 11 unique values\n",
      "INV-NODES has 7 unique values\n",
      "NODE-CAPS has 2 unique values\n",
      "BREAST-QUAD has 5 unique values\n",
      "IRRADIAT has 2 unique values\n"
     ]
    }
   ],
   "source": [
    "for col in cat_cols:\n",
    "    print(f'{col.upper()} has {len(dataset[col].value_counts())} unique values')"
   ]
  },
  {
   "cell_type": "markdown",
   "metadata": {},
   "source": [
    "We need a way to feed these string values into the model as a number: this is where embedding comes in. Effectively, embedding performs a similar function to scikit-learn's OneHotEncoder in that it assigns a vector of numbers to each of the unique values within each category, all held within a lookup table. E.g. the value <tt>40-49</tt> within the <tt>age</tt> column could be represented as [0.13, 0.33, 0.64, 0.52]. We need to apply this to each of the categories. "
   ]
  },
  {
   "cell_type": "code",
   "execution_count": 12,
   "metadata": {},
   "outputs": [
    {
     "name": "stdout",
     "output_type": "stream",
     "text": [
      "[(6, 3), (3, 2), (11, 6), (7, 4), (2, 1), (5, 3), (2, 1)]\n"
     ]
    }
   ],
   "source": [
    "#Set up embedding values - this is similar to OneHotEncoding categorical values in SKLearn\n",
    "cat_sizes = [len(dataset[col].cat.categories) for col in cat_cols]\n",
    "emb_sizes = [(size,min(50,(size+1)//2)) for size in cat_sizes]\n",
    "print(emb_sizes)"
   ]
  },
  {
   "cell_type": "markdown",
   "metadata": {},
   "source": [
    "## Defining the Tabular Model\n",
    "The goal is to define a model based on the number of continuous columns (given by conts.shape[1]) plus the number of categorical columns and their embeddings (given by len(emb_szs) and emb_szs respectively). The output would either be a regression (a single float value), or a classification. For this exercise the output will be a classification. The model is built upon Pytorch's <tt>Module</tt> class.\n",
    "\n",
    "The inputs to the model are listed below:\n",
    "   * <tt>emb_sizes: </tt>list of tuples: each categorical variable size is paired with an embedding size\n",
    "   * <tt>n_cont:  </tt>int: number of continuous variables\n",
    "   * <tt>out_size:  </tt>int: output size\n",
    "   * <tt>layers:  </tt>list of ints: layer sizes\n",
    "   * <tt>p:       </tt>float: dropout probability for each layer"
   ]
  },
  {
   "cell_type": "code",
   "execution_count": 13,
   "metadata": {},
   "outputs": [],
   "source": [
    "class TabularModel(nn.Module):\n",
    "# Model takes in the embedding sizes initiliased above, number of continuous variables,\n",
    "# output layer size (e.g for classification this =2, and dropout probability e.g 0.5 = 50%)\n",
    "    def __init__(self, emb_sizes, n_cont, out_size, layers, p=0.5):\n",
    "        #This call allows us to utilise the nn.Module class already built, extending our own definitions onto it\n",
    "        super().__init__()\n",
    "        #Set up the embeddings\n",
    "        self.embeds = nn.ModuleList([nn.Embedding(ni, nf) for ni,nf in emb_sizes])\n",
    "        #Initialise a dropout function (equal to p) During training, this randomly zeros p% of the input tensor\n",
    "        self.emb_drop = nn.Dropout(p)\n",
    "        self.bn_cont = nn.BatchNorm1d(n_cont)\n",
    "        \n",
    "        layerlist = []\n",
    "        n_emb = sum((nf for ni,nf in emb_sizes))\n",
    "        n_in = n_emb + n_cont\n",
    "        \n",
    "        for i in layers:\n",
    "            layerlist.append(nn.Linear(n_in,i)) \n",
    "            layerlist.append(nn.ReLU())\n",
    "            layerlist.append(nn.BatchNorm1d(i))\n",
    "            layerlist.append(nn.Dropout(p))\n",
    "            n_in = i\n",
    "        layerlist.append(nn.Linear(layers[-1],out_size))\n",
    "            \n",
    "        self.layers = nn.Sequential(*layerlist)\n",
    "    \n",
    "    def forward(self, x_cat, x_cont):\n",
    "        embeddings = []\n",
    "        for i,e in enumerate(self.embeds):\n",
    "            embeddings.append(e(x_cat[:,i]))\n",
    "        x = torch.cat(embeddings, 1)\n",
    "        x = self.emb_drop(x)\n",
    "        \n",
    "        x_cont = self.bn_cont(x_cont)\n",
    "        x = torch.cat([x, x_cont], 1)\n",
    "        x = self.layers(x)\n",
    "        return x"
   ]
  },
  {
   "cell_type": "markdown",
   "metadata": {},
   "source": [
    "I set up a sequence of neural network layers, where each includes:\n",
    "\n",
    "* A Linear function, \n",
    "* An Activation function \n",
    "    * <small>for the baseline model I use ReLU, but I'll show use of Softmax as well</small>\n",
    "* A Normalization step\n",
    "    * <small> this is applied to the continuous variable(s)\n",
    "* A Dropout layer\n",
    "    \n",
    "I combine the list of layers using <tt>torch.nn.Sequential()</tt>"
   ]
  },
  {
   "cell_type": "markdown",
   "metadata": {},
   "source": [
    "# Model Instance\n",
    "Next, I need to create an instance of the model, and define the loss criteria as well as the optimiser for the forward pass. The model takes in five inputs, as described above. For my first iteration, I initialise the following parameters:\n",
    "\n",
    "* emb_sizes = emb_sizes\n",
    "* n_cont = conts.shape[1]\n",
    "    * In this model, the number of continuous inputs is 1 (deg-malig column)\n",
    "* out_size = 2\n",
    "    * <small>The output size is equal to the number of outputs your model produces. E.g a regression model would be outputting 1 value if you were attempting to predict a house price based on its location, size, number of rooms etc. \n",
    "    * In this case we have a simple classification problem, in which each prediction can take one of two values: <strong>recurrence</strong> or <strong>no recurrence</strong>. Therefore, the number of outputs is equal to two. For each predicition, the model will output a tuple e.g [0.88888, -0.12339], where the maximum value's index (0 or 1) determines the predicition. In this example, the maximum value (0.88888) is found at index 0, which therefore corresponds to <strong> no recurrence</strong>.\n",
    "* layers = [10,20]\n",
    "    * <small> The first value corresponds to the number of out features in the first Linear layer, the second value effectively initialises a second forward pass with the number of out features in the Linear layer equal to it. The vlaues of 10 and 20 were chosen arbitrarily.\n",
    "* p = 0.2 (20% dropout)\n",
    "\n",
    "\n",
    "\n",
    "For the baseline model optimiser, I have chosen to use the Adaptive Moment Estimate (ADAM). I use CrossEntropyLoss as the loss criterion due to it being a classfication problem. In regression models, an RMSE loss criterion is typically applied instead. Finally, I use an initial learning rate of 0.001. The choice of 0.001 is 50% arbitrary and 50% guided by standard practise. A lower learning rate will increase the model's time to convergence, and a higher learning rate may cause the model to miss the point of minimum loss."
   ]
  },
  {
   "cell_type": "code",
   "execution_count": 14,
   "metadata": {},
   "outputs": [
    {
     "name": "stdout",
     "output_type": "stream",
     "text": [
      "TabularModel(\n",
      "  (embeds): ModuleList(\n",
      "    (0): Embedding(6, 3)\n",
      "    (1): Embedding(3, 2)\n",
      "    (2): Embedding(11, 6)\n",
      "    (3): Embedding(7, 4)\n",
      "    (4): Embedding(2, 1)\n",
      "    (5): Embedding(5, 3)\n",
      "    (6): Embedding(2, 1)\n",
      "  )\n",
      "  (emb_drop): Dropout(p=0.2)\n",
      "  (bn_cont): BatchNorm1d(1, eps=1e-05, momentum=0.1, affine=True, track_running_stats=True)\n",
      "  (layers): Sequential(\n",
      "    (0): Linear(in_features=21, out_features=10, bias=True)\n",
      "    (1): ReLU()\n",
      "    (2): BatchNorm1d(10, eps=1e-05, momentum=0.1, affine=True, track_running_stats=True)\n",
      "    (3): Dropout(p=0.2)\n",
      "    (4): Linear(in_features=10, out_features=15, bias=True)\n",
      "    (5): ReLU()\n",
      "    (6): BatchNorm1d(15, eps=1e-05, momentum=0.1, affine=True, track_running_stats=True)\n",
      "    (7): Dropout(p=0.2)\n",
      "    (8): Linear(in_features=15, out_features=2, bias=True)\n",
      "  )\n",
      ")\n"
     ]
    }
   ],
   "source": [
    "#Create model instance\n",
    "model = TabularModel(emb_sizes,conts.shape[1],2, [10,15],p=0.2)\n",
    " \n",
    "#Set the cost function and fit optimisier (using ADAM)\n",
    "criterion = nn.CrossEntropyLoss() #np.sqrt(MSE) --> RMSE\n",
    "optimizer = torch.optim.Adam(model.parameters(),lr=0.001)\n",
    "\n",
    "print(model)"
   ]
  },
  {
   "cell_type": "markdown",
   "metadata": {},
   "source": [
    "## Splitting out the dataset\n",
    "The model is almost ready to train. For each of the 3 data sources (categorical, continuous and label) I need to break them out into a test set and a train set. As is standard practice, I use a 80:20 test:train split. However, given the size of the dataset, the model performance is highly variable to this ratio (as will be shown later on)."
   ]
  },
  {
   "cell_type": "code",
   "execution_count": 15,
   "metadata": {},
   "outputs": [],
   "source": [
    "#Split out into a test and train set of approx 20:80 ratio\n",
    "cat_train = cats[55:]\n",
    "cat_test = cats[:55]\n",
    "con_train = conts[55:]\n",
    "con_test = conts[:55]\n",
    "\n",
    "y_train = y[55:]\n",
    "y_test = y[:55]"
   ]
  },
  {
   "cell_type": "markdown",
   "metadata": {},
   "source": [
    "## Running the neural network\n",
    "Finally, we are able to train the network and allow it to make its predictions. I initially set the network to train for 2500 epochs."
   ]
  },
  {
   "cell_type": "code",
   "execution_count": 16,
   "metadata": {},
   "outputs": [
    {
     "name": "stdout",
     "output_type": "stream",
     "text": [
      "Epoch: 1 loss is 0.6891\n",
      "Epoch: 101 loss is 0.5436\n",
      "Epoch: 201 loss is 0.4955\n",
      "Epoch: 301 loss is 0.4654\n",
      "Epoch: 401 loss is 0.4592\n",
      "Epoch: 501 loss is 0.3992\n",
      "Epoch: 601 loss is 0.3602\n",
      "Epoch: 701 loss is 0.3900\n",
      "Epoch: 801 loss is 0.4025\n",
      "Epoch: 901 loss is 0.4056\n",
      "Epoch: 1001 loss is 0.3841\n",
      "Epoch: 1101 loss is 0.3419\n",
      "Epoch: 1201 loss is 0.3721\n",
      "Epoch: 1301 loss is 0.3660\n",
      "Epoch: 1401 loss is 0.3197\n",
      "Epoch: 1501 loss is 0.3497\n",
      "Epoch: 1601 loss is 0.3258\n",
      "Epoch: 1701 loss is 0.3518\n",
      "Epoch: 1801 loss is 0.3398\n",
      "Epoch: 1901 loss is 0.3090\n",
      "Epoch: 2001 loss is 0.3300\n",
      "Epoch: 2101 loss is 0.3195\n",
      "Epoch: 2201 loss is 0.2981\n",
      "Epoch: 2301 loss is 0.3609\n",
      "Epoch: 2401 loss is 0.3323\n",
      "Training took 0.55 minutes\n",
      "Accuracy: 80.00%\n"
     ]
    }
   ],
   "source": [
    "# Set seed of Pytorch = to random int in order to ensure model's parameters are constant\n",
    "# This will enable me to tune model and hyperparameters and measure changes in accuracy solely based on my changes\n",
    "torch.manual_seed(33)\n",
    "\n",
    "import time\n",
    "\n",
    "start_time = time.time()\n",
    "epochs = 2500\n",
    "\n",
    "losses = []\n",
    "\n",
    "for i in range(epochs):\n",
    "    i += 1\n",
    "    \n",
    "    y_pred = model(cat_train,con_train)\n",
    "    loss = criterion(y_pred,y_train)\n",
    "    losses.append(loss)\n",
    "    \n",
    "    if i%100 ==1:\n",
    "        print(f'Epoch: {i} loss is {loss:.4f}')\n",
    "    \n",
    "    optimizer.zero_grad()\n",
    "    loss.backward()\n",
    "    optimizer.step()\n",
    "\n",
    "\n",
    "duration = time.time() - start_time\n",
    "print(f'Training took {duration/60:.2f} minutes')\n",
    "    \n",
    "\n",
    "with torch.no_grad():\n",
    "    y_val = model(cat_test,con_test)\n",
    "    loss = criterion(y_val, y_test)\n",
    "\n",
    "#y_pred = pd.DataFrame(np.argmax(y_val.numpy(),axis=1))\n",
    "correct = 0\n",
    "for i in range(len(y_test)):\n",
    "    if y_val[i].argmax().item() == y_test[i]:\n",
    "        correct +=1\n",
    "print(f'Accuracy: {100*correct/len(y_test):.2f}%')\n"
   ]
  },
  {
   "cell_type": "code",
   "execution_count": 17,
   "metadata": {},
   "outputs": [
    {
     "data": {
      "text/plain": [
       "Text(0, 0.5, 'CrossEntropyLoss')"
      ]
     },
     "execution_count": 17,
     "metadata": {},
     "output_type": "execute_result"
    },
    {
     "data": {
      "image/png": "[encoded data removed]",
      "text/plain": [
       "<Figure size 432x288 with 1 Axes>"
      ]
     },
     "metadata": {
      "needs_background": "light"
     },
     "output_type": "display_data"
    }
   ],
   "source": [
    "%matplotlib inline\n",
    "plt.plot(range(epochs),losses)\n",
    "plt.xlabel('Epochs')\n",
    "plt.ylabel('CrossEntropyLoss')"
   ]
  },
  {
   "cell_type": "code",
   "execution_count": 192,
   "metadata": {},
   "outputs": [],
   "source": [
    "# Saving the model \n",
    "if len(losses) == epochs:\n",
    "    torch.save(model.state_dict(), 'Breast_Cancer_V1.0.pt')\n",
    "else:\n",
    "    print('Model has not been trained. Consider loading a trained model instead.')"
   ]
  },
  {
   "cell_type": "markdown",
   "metadata": {},
   "source": [
    "## Performance\n",
    "From the result above, we can see that the neural network obtains an accuracy of 74.55%. For a first attempt at a neural network, this is a reasonable accuracy. But, whilst I have yet to apply a more simple machine learning algorithm (such as random forest) to this dataset, a 75% accuracy represents a middle-of-the-road score and there's scope for improvement. An 80% accuracy threshold is an ideal target to aim for. I vary parameters such as the learning rate, the activation function (ReLU vs Softmax), and the number of layers.\n",
    "\n",
    "One interesting observation is, upon increasing the number of epochs to train on, I reduced my model's loss (as expected) but also reduced my model's accuracy. This is actually not uncommon behaviour (especially in small datasets) and is down to <strong> high variance </strong>. Increasing the number of data points from which I can train the model would help reduce this issue. "
   ]
  },
  {
   "cell_type": "markdown",
   "metadata": {},
   "source": [
    "## Submission\n",
    "I manage to achieve an accuracy of % with the neural network as shown in my <a href='https://github.com/smose94/Breast-Cancer-Detection/blob/master/submission_01'> final submission </a>. The submission supplied was tested and successfully ran in Google's Colab on <strong><tt>04/05/2020</tt></strong>. \n",
    "\n",
    "This project has been a great introduction to neural networks, and I will continue to investigate not only the effects of changing certain parameters but gain a greater understanding of the maths behind it, too. In terms of next steps, I want to apply the <tt> grid search</tt> method to my network above and see if I can use it to find the optimal hyperparameter values for my dataset. "
   ]
  },
  {
   "cell_type": "code",
   "execution_count": null,
   "metadata": {},
   "outputs": [],
   "source": []
  }
 ],
 "metadata": {
  "kernelspec": {
   "display_name": "Python 3",
   "language": "python",
   "name": "python3"
  },
  "language_info": {
   "codemirror_mode": {
    "name": "ipython",
    "version": 3
   },
   "file_extension": ".py",
   "mimetype": "text/x-python",
   "name": "python",
   "nbconvert_exporter": "python",
   "pygments_lexer": "ipython3",
   "version": "3.7.3"
  }
 },
 "nbformat": 4,
 "nbformat_minor": 2
}
